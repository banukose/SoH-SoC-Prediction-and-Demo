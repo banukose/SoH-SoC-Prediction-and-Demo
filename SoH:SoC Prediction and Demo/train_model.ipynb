{
 "cells": [
  {
   "cell_type": "code",
   "execution_count": 2,
   "id": "46d5d8a3",
   "metadata": {},
   "outputs": [],
   "source": [
    "# 📦 Kütüphaneler\n",
    "import os\n",
    "import pandas as pd\n",
    "import numpy as np\n",
    "import matplotlib.pyplot as plt\n",
    "from sklearn.model_selection import train_test_split\n",
    "from sklearn.ensemble import RandomForestRegressor\n",
    "from sklearn.metrics import mean_squared_error, r2_score\n",
    "from sklearn.preprocessing import MinMaxScaler\n",
    "from tensorflow.keras.models import Sequential\n",
    "from tensorflow.keras.layers import LSTM, Dense\n",
    "from tensorflow.keras.callbacks import EarlyStopping\n",
    "from sklearn.model_selection import cross_val_score, KFold\n",
    "import joblib"
   ]
  },
  {
   "cell_type": "markdown",
   "id": "88060144",
   "metadata": {},
   "source": [
    "## Train SoH Model"
   ]
  },
  {
   "cell_type": "code",
   "execution_count": 3,
   "id": "1d334979",
   "metadata": {},
   "outputs": [],
   "source": [
    "# Veri yükle\n",
    "df_soh = pd.read_csv(\"data/processed/battery_data_soh.csv\")"
   ]
  },
  {
   "cell_type": "code",
   "execution_count": null,
   "id": "c99d8a49",
   "metadata": {},
   "outputs": [],
   "source": [
    "# Özellik ve hedef ayır\n",
    "# Öznitelik seçimi\n",
    "X = df_soh[['avg_voltage', 'avg_current', 'max_temperature']]\n",
    "y = df_soh['soh']"
   ]
  },
  {
   "cell_type": "code",
   "execution_count": null,
   "id": "92249d12",
   "metadata": {},
   "outputs": [],
   "source": [
    "# Model tanımı\n",
    "rf_model = RandomForestRegressor(n_estimators=100, random_state=42)\n",
    "X_train, X_test, y_train, y_test = train_test_split(X, y, test_size=0.2, random_state=42)\n"
   ]
  },
  {
   "cell_type": "code",
   "execution_count": null,
   "id": "fb096831",
   "metadata": {},
   "outputs": [],
   "source": [
    "# 10-Fold Cross Validation\n",
    "kf = KFold(n_splits=10, shuffle=True, random_state=42)\n",
    "mse_scores = cross_val_score(rf_model, X, y, cv=kf, scoring='neg_mean_squared_error')\n",
    "rmse_scores = (-mse_scores) ** 0.5"
   ]
  },
  {
   "cell_type": "code",
   "execution_count": null,
   "id": "446433a5",
   "metadata": {},
   "outputs": [
    {
     "name": "stdout",
     "output_type": "stream",
     "text": [
      "📊 10-Fold CV RMSE Ortalaması: 0.012850572152031553\n",
      "📉 Fold Bazlı RMSE: [0.01827495 0.01210058 0.01712783 0.00715522 0.01384809 0.01807894\n",
      " 0.00700748 0.0119534  0.01249904 0.0104602 ]\n"
     ]
    }
   ],
   "source": [
    "#Sonuçların yazdırılması\n",
    "print(\"📊 10-Fold CV RMSE Ortalaması:\", rmse_scores.mean())\n",
    "print(\"📉 Fold Bazlı RMSE:\", rmse_scores)"
   ]
  },
  {
   "cell_type": "code",
   "execution_count": null,
   "id": "0f058f6e",
   "metadata": {},
   "outputs": [],
   "source": [
    "#Model eğitimi\n",
    "rf_model.fit(X_train, y_train)\n",
    "y_pred = rf_model.predict(X_test)"
   ]
  },
  {
   "cell_type": "code",
   "execution_count": null,
   "id": "1fd98714",
   "metadata": {},
   "outputs": [
    {
     "name": "stdout",
     "output_type": "stream",
     "text": [
      "✅ Final SOH Test Performansı:\n",
      "MSE: 0.00025696479612877737\n",
      "R²: 0.9792854183811615\n"
     ]
    }
   ],
   "source": [
    "#Sonuçların yazdırılması\n",
    "print(\"✅ Final SOH Test Performansı:\")\n",
    "print(\"MSE:\", mean_squared_error(y_test, y_pred))\n",
    "print(\"R²:\", r2_score(y_test, y_pred))"
   ]
  },
  {
   "cell_type": "markdown",
   "id": "75258111",
   "metadata": {},
   "source": [
    "## 📊 SOH Model Performans Değerlendirmesi\n",
    "\n",
    "### 🔟 10-Fold Cross-Validation Sonuçları\n",
    "\n",
    "- **RMSE Ortalaması:** `0.01285`\n",
    "\n",
    "Bu değer, modelin 10 farklı veri bölmesinde test edilirken ortalama olarak tahminlerinde yaptığı hata miktarını ifade eder. Düşük bir değer olması, modelin genelleme performansının güçlü olduğunu gösterir.\n",
    "\n",
    "#### 📉 Fold Bazlı RMSE Değerleri:  \n",
    "[0.01827, 0.01210, 0.01713, 0.00716, 0.01385, 0.01808, 0.00701, 0.01195, 0.01250, 0.01046]\n",
    "\n",
    "\n",
    "Bu değerlerin genel olarak düşük ve birbirine yakın olması, modelin istikrarlı olduğunu ve farklı veri bölmelerinde benzer başarı sağladığını gösterir.\n",
    "\n",
    "---\n",
    "\n",
    "### ✅ Final Test Performansı\n",
    "\n",
    "- **MSE (Mean Squared Error):** `0.00026`\n",
    "- **R² (Determination Coefficient):** `0.9793`\n",
    "\n",
    "🔹 MSE değeri oldukça düşük, bu da modelin test verilerinde çok küçük hatalarla tahmin yaptığını gösterir.\n",
    "\n",
    "🔹 R² değeri 1'e çok yakın (`0.9793`), bu da modelin verideki varyansın %97.9’unu doğru şekilde açıkladığını gösterir. Yani, model veriye oldukça iyi uyum sağlamıştır.\n",
    "\n",
    "---\n",
    "\n",
    "### 📌 Genel Yorum\n",
    "\n",
    "Model, hem çapraz doğrulamada hem de ayrı test setinde düşük hata ve yüksek doğruluk ile başarılı bir performans sergilemiştir. Eğitim süreci sırasında overfitting yaşanmadığı ve modelin genelleme yeteneğinin yüksek olduğu söylenebilir.\n"
   ]
  },
  {
   "cell_type": "code",
   "execution_count": 13,
   "id": "c33da641",
   "metadata": {},
   "outputs": [
    {
     "name": "stdout",
     "output_type": "stream",
     "text": [
      "📁 SOH modeli kaydedildi: models/soh_model.pkl\n"
     ]
    }
   ],
   "source": [
    "# Kaydet\n",
    "joblib.dump(rf_model, \"models/soh_model.pkl\")\n",
    "print(\"📁 SOH modeli kaydedildi: models/soh_model.pkl\")"
   ]
  },
  {
   "cell_type": "markdown",
   "id": "d775b2c1",
   "metadata": {},
   "source": [
    "## Train SoC Model"
   ]
  },
  {
   "cell_type": "code",
   "execution_count": 14,
   "id": "2f9f0d2b",
   "metadata": {},
   "outputs": [],
   "source": [
    "# SOC verisini oku\n",
    "df_soc = pd.read_csv(\"data/processed/battery_data_soc.csv\")"
   ]
  },
  {
   "cell_type": "code",
   "execution_count": null,
   "id": "051d6493",
   "metadata": {},
   "outputs": [],
   "source": [
    "# Önemli değişkenleri seç\n",
    "features = ['voltage', 'current', 'temperature']\n",
    "target = 'soc'\n",
    "window_size = 50    # Her örnekte 50 zaman adımı olacak"
   ]
  },
  {
   "cell_type": "code",
   "execution_count": 16,
   "id": "be0316b9",
   "metadata": {},
   "outputs": [],
   "source": [
    "def create_sequences(data, features, target, window_size):\n",
    "    sequences = []\n",
    "    labels = []\n",
    "\n",
    "    for cycle_id in data['cycle'].unique():\n",
    "        cycle_data = data[data['cycle'] == cycle_id].sort_values(by='time')\n",
    "        if len(cycle_data) < window_size + 1:\n",
    "            continue\n",
    "\n",
    "        scaler = MinMaxScaler()\n",
    "        scaled_features = scaler.fit_transform(cycle_data[features])\n",
    "\n",
    "        target_series = cycle_data[target].values\n",
    "\n",
    "        for i in range(len(scaled_features) - window_size):\n",
    "            seq = scaled_features[i:i + window_size]\n",
    "            label = target_series[i + window_size]\n",
    "            sequences.append(seq)\n",
    "            labels.append(label)\n",
    "\n",
    "    return np.array(sequences), np.array(labels)"
   ]
  },
  {
   "cell_type": "code",
   "execution_count": null,
   "id": "7d67682a",
   "metadata": {},
   "outputs": [],
   "source": [
    "# Veri sızıntısını önlemek için cycle bazlı bölme\n",
    "cycle_ids = df_soc['cycle'].unique()\n",
    "np.random.seed(42)\n",
    "np.random.shuffle(cycle_ids)\n",
    "split_idx = int(len(cycle_ids) * 0.8)\n",
    "train_cycles = cycle_ids[:split_idx]\n",
    "test_cycles = cycle_ids[split_idx:]\n",
    "\n",
    "train_data = df_soc[df_soc['cycle'].isin(train_cycles)]\n",
    "test_data = df_soc[df_soc['cycle'].isin(test_cycles)]\n",
    "\n",
    "X_train, y_train = create_sequences(train_data, features, target, window_size)\n",
    "X_test, y_test = create_sequences(test_data, features, target, window_size)\n"
   ]
  },
  {
   "cell_type": "code",
   "execution_count": null,
   "id": "2f24492c",
   "metadata": {},
   "outputs": [
    {
     "data": {
      "text/html": [
       "<pre style=\"white-space:pre;overflow-x:auto;line-height:normal;font-family:Menlo,'DejaVu Sans Mono',consolas,'Courier New',monospace\"><span style=\"font-weight: bold\">Model: \"sequential_1\"</span>\n",
       "</pre>\n"
      ],
      "text/plain": [
       "\u001b[1mModel: \"sequential_1\"\u001b[0m\n"
      ]
     },
     "metadata": {},
     "output_type": "display_data"
    },
    {
     "data": {
      "text/html": [
       "<pre style=\"white-space:pre;overflow-x:auto;line-height:normal;font-family:Menlo,'DejaVu Sans Mono',consolas,'Courier New',monospace\">┏━━━━━━━━━━━━━━━━━━━━━━━━━━━━━━━━━┳━━━━━━━━━━━━━━━━━━━━━━━━┳━━━━━━━━━━━━━━━┓\n",
       "┃<span style=\"font-weight: bold\"> Layer (type)                    </span>┃<span style=\"font-weight: bold\"> Output Shape           </span>┃<span style=\"font-weight: bold\">       Param # </span>┃\n",
       "┡━━━━━━━━━━━━━━━━━━━━━━━━━━━━━━━━━╇━━━━━━━━━━━━━━━━━━━━━━━━╇━━━━━━━━━━━━━━━┩\n",
       "│ lstm_1 (<span style=\"color: #0087ff; text-decoration-color: #0087ff\">LSTM</span>)                   │ (<span style=\"color: #00d7ff; text-decoration-color: #00d7ff\">None</span>, <span style=\"color: #00af00; text-decoration-color: #00af00\">64</span>)             │        <span style=\"color: #00af00; text-decoration-color: #00af00\">17,408</span> │\n",
       "├─────────────────────────────────┼────────────────────────┼───────────────┤\n",
       "│ dense_2 (<span style=\"color: #0087ff; text-decoration-color: #0087ff\">Dense</span>)                 │ (<span style=\"color: #00d7ff; text-decoration-color: #00d7ff\">None</span>, <span style=\"color: #00af00; text-decoration-color: #00af00\">32</span>)             │         <span style=\"color: #00af00; text-decoration-color: #00af00\">2,080</span> │\n",
       "├─────────────────────────────────┼────────────────────────┼───────────────┤\n",
       "│ dense_3 (<span style=\"color: #0087ff; text-decoration-color: #0087ff\">Dense</span>)                 │ (<span style=\"color: #00d7ff; text-decoration-color: #00d7ff\">None</span>, <span style=\"color: #00af00; text-decoration-color: #00af00\">1</span>)              │            <span style=\"color: #00af00; text-decoration-color: #00af00\">33</span> │\n",
       "└─────────────────────────────────┴────────────────────────┴───────────────┘\n",
       "</pre>\n"
      ],
      "text/plain": [
       "┏━━━━━━━━━━━━━━━━━━━━━━━━━━━━━━━━━┳━━━━━━━━━━━━━━━━━━━━━━━━┳━━━━━━━━━━━━━━━┓\n",
       "┃\u001b[1m \u001b[0m\u001b[1mLayer (type)                   \u001b[0m\u001b[1m \u001b[0m┃\u001b[1m \u001b[0m\u001b[1mOutput Shape          \u001b[0m\u001b[1m \u001b[0m┃\u001b[1m \u001b[0m\u001b[1m      Param #\u001b[0m\u001b[1m \u001b[0m┃\n",
       "┡━━━━━━━━━━━━━━━━━━━━━━━━━━━━━━━━━╇━━━━━━━━━━━━━━━━━━━━━━━━╇━━━━━━━━━━━━━━━┩\n",
       "│ lstm_1 (\u001b[38;5;33mLSTM\u001b[0m)                   │ (\u001b[38;5;45mNone\u001b[0m, \u001b[38;5;34m64\u001b[0m)             │        \u001b[38;5;34m17,408\u001b[0m │\n",
       "├─────────────────────────────────┼────────────────────────┼───────────────┤\n",
       "│ dense_2 (\u001b[38;5;33mDense\u001b[0m)                 │ (\u001b[38;5;45mNone\u001b[0m, \u001b[38;5;34m32\u001b[0m)             │         \u001b[38;5;34m2,080\u001b[0m │\n",
       "├─────────────────────────────────┼────────────────────────┼───────────────┤\n",
       "│ dense_3 (\u001b[38;5;33mDense\u001b[0m)                 │ (\u001b[38;5;45mNone\u001b[0m, \u001b[38;5;34m1\u001b[0m)              │            \u001b[38;5;34m33\u001b[0m │\n",
       "└─────────────────────────────────┴────────────────────────┴───────────────┘\n"
      ]
     },
     "metadata": {},
     "output_type": "display_data"
    },
    {
     "data": {
      "text/html": [
       "<pre style=\"white-space:pre;overflow-x:auto;line-height:normal;font-family:Menlo,'DejaVu Sans Mono',consolas,'Courier New',monospace\"><span style=\"font-weight: bold\"> Total params: </span><span style=\"color: #00af00; text-decoration-color: #00af00\">19,521</span> (76.25 KB)\n",
       "</pre>\n"
      ],
      "text/plain": [
       "\u001b[1m Total params: \u001b[0m\u001b[38;5;34m19,521\u001b[0m (76.25 KB)\n"
      ]
     },
     "metadata": {},
     "output_type": "display_data"
    },
    {
     "data": {
      "text/html": [
       "<pre style=\"white-space:pre;overflow-x:auto;line-height:normal;font-family:Menlo,'DejaVu Sans Mono',consolas,'Courier New',monospace\"><span style=\"font-weight: bold\"> Trainable params: </span><span style=\"color: #00af00; text-decoration-color: #00af00\">19,521</span> (76.25 KB)\n",
       "</pre>\n"
      ],
      "text/plain": [
       "\u001b[1m Trainable params: \u001b[0m\u001b[38;5;34m19,521\u001b[0m (76.25 KB)\n"
      ]
     },
     "metadata": {},
     "output_type": "display_data"
    },
    {
     "data": {
      "text/html": [
       "<pre style=\"white-space:pre;overflow-x:auto;line-height:normal;font-family:Menlo,'DejaVu Sans Mono',consolas,'Courier New',monospace\"><span style=\"font-weight: bold\"> Non-trainable params: </span><span style=\"color: #00af00; text-decoration-color: #00af00\">0</span> (0.00 B)\n",
       "</pre>\n"
      ],
      "text/plain": [
       "\u001b[1m Non-trainable params: \u001b[0m\u001b[38;5;34m0\u001b[0m (0.00 B)\n"
      ]
     },
     "metadata": {},
     "output_type": "display_data"
    }
   ],
   "source": [
    "# LSTM Modeli\n",
    "lstm_model = Sequential([\n",
    "    LSTM(64, input_shape=(X_train.shape[1], X_train.shape[2])),\n",
    "    Dense(32, activation='relu'),\n",
    "    Dense(1, activation='linear')\n",
    "])\n",
    "\n",
    "lstm_model.compile(optimizer='adam', loss='mean_squared_error', metrics=['mae'])\n",
    "lstm_model.summary()"
   ]
  },
  {
   "cell_type": "code",
   "execution_count": null,
   "id": "c1a95048",
   "metadata": {},
   "outputs": [],
   "source": [
    "# Early stopping\n",
    "early_stop = EarlyStopping(patience=5, restore_best_weights=True)"
   ]
  },
  {
   "cell_type": "code",
   "execution_count": null,
   "id": "4f93de20",
   "metadata": {},
   "outputs": [
    {
     "name": "stdout",
     "output_type": "stream",
     "text": [
      "Epoch 1/20\n",
      "\u001b[1m1237/1237\u001b[0m \u001b[32m━━━━━━━━━━━━━━━━━━━━\u001b[0m\u001b[37m\u001b[0m \u001b[1m22s\u001b[0m 17ms/step - loss: 0.0172 - mae: 0.0812 - val_loss: 0.0027 - val_mae: 0.0395\n",
      "Epoch 2/20\n",
      "\u001b[1m1237/1237\u001b[0m \u001b[32m━━━━━━━━━━━━━━━━━━━━\u001b[0m\u001b[37m\u001b[0m \u001b[1m21s\u001b[0m 17ms/step - loss: 0.0017 - mae: 0.0310 - val_loss: 0.0026 - val_mae: 0.0428\n",
      "Epoch 3/20\n",
      "\u001b[1m1237/1237\u001b[0m \u001b[32m━━━━━━━━━━━━━━━━━━━━\u001b[0m\u001b[37m\u001b[0m \u001b[1m21s\u001b[0m 17ms/step - loss: 0.0015 - mae: 0.0293 - val_loss: 0.0028 - val_mae: 0.0429\n",
      "Epoch 4/20\n",
      "\u001b[1m1237/1237\u001b[0m \u001b[32m━━━━━━━━━━━━━━━━━━━━\u001b[0m\u001b[37m\u001b[0m \u001b[1m22s\u001b[0m 18ms/step - loss: 0.0014 - mae: 0.0281 - val_loss: 0.0030 - val_mae: 0.0365\n",
      "Epoch 5/20\n",
      "\u001b[1m1237/1237\u001b[0m \u001b[32m━━━━━━━━━━━━━━━━━━━━\u001b[0m\u001b[37m\u001b[0m \u001b[1m22s\u001b[0m 17ms/step - loss: 0.0013 - mae: 0.0277 - val_loss: 0.0024 - val_mae: 0.0319\n",
      "Epoch 6/20\n",
      "\u001b[1m1237/1237\u001b[0m \u001b[32m━━━━━━━━━━━━━━━━━━━━\u001b[0m\u001b[37m\u001b[0m \u001b[1m22s\u001b[0m 17ms/step - loss: 0.0013 - mae: 0.0273 - val_loss: 0.0018 - val_mae: 0.0297\n",
      "Epoch 7/20\n",
      "\u001b[1m1237/1237\u001b[0m \u001b[32m━━━━━━━━━━━━━━━━━━━━\u001b[0m\u001b[37m\u001b[0m \u001b[1m21s\u001b[0m 17ms/step - loss: 0.0013 - mae: 0.0268 - val_loss: 0.0024 - val_mae: 0.0315\n",
      "Epoch 8/20\n",
      "\u001b[1m1237/1237\u001b[0m \u001b[32m━━━━━━━━━━━━━━━━━━━━\u001b[0m\u001b[37m\u001b[0m \u001b[1m21s\u001b[0m 17ms/step - loss: 0.0012 - mae: 0.0266 - val_loss: 0.0028 - val_mae: 0.0331\n",
      "Epoch 9/20\n",
      "\u001b[1m1237/1237\u001b[0m \u001b[32m━━━━━━━━━━━━━━━━━━━━\u001b[0m\u001b[37m\u001b[0m \u001b[1m22s\u001b[0m 17ms/step - loss: 0.0012 - mae: 0.0257 - val_loss: 0.0028 - val_mae: 0.0354\n",
      "Epoch 10/20\n",
      "\u001b[1m1237/1237\u001b[0m \u001b[32m━━━━━━━━━━━━━━━━━━━━\u001b[0m\u001b[37m\u001b[0m \u001b[1m22s\u001b[0m 18ms/step - loss: 0.0012 - mae: 0.0255 - val_loss: 0.0027 - val_mae: 0.0349\n",
      "Epoch 11/20\n",
      "\u001b[1m1237/1237\u001b[0m \u001b[32m━━━━━━━━━━━━━━━━━━━━\u001b[0m\u001b[37m\u001b[0m \u001b[1m21s\u001b[0m 17ms/step - loss: 0.0011 - mae: 0.0252 - val_loss: 0.0025 - val_mae: 0.0339\n"
     ]
    }
   ],
   "source": [
    "# Model eğitimi\n",
    "history = lstm_model.fit(X_train, y_train, epochs=20, batch_size=64, validation_split=0.2, callbacks=[early_stop])\n"
   ]
  },
  {
   "cell_type": "code",
   "execution_count": 27,
   "id": "275374bb",
   "metadata": {},
   "outputs": [
    {
     "name": "stdout",
     "output_type": "stream",
     "text": [
      "\u001b[1m737/737\u001b[0m \u001b[32m━━━━━━━━━━━━━━━━━━━━\u001b[0m\u001b[37m\u001b[0m \u001b[1m4s\u001b[0m 5ms/step - loss: 0.0014 - mae: 0.0277\n",
      "✅ SOC Model Performansı:\n",
      "Test MAE: 0.027747701853513718\n"
     ]
    }
   ],
   "source": [
    "# Değerlendirme\n",
    "loss, mae = lstm_model.evaluate(X_test, y_test)\n",
    "print(\"✅ SOC Model Performansı:\")\n",
    "print(\"Test MAE:\", mae)"
   ]
  },
  {
   "cell_type": "markdown",
   "id": "2958413e",
   "metadata": {},
   "source": [
    "### ✅ SOC Modeli Test Performansı Değerlendirmesi\n",
    "#### 🔢 Test MAE (Mean Absolute Error): 0.0277\n",
    "\n",
    "Bu değer, modelin ortalama olarak tahmin ettiği SOC değerlerinin gerçek değerlere yaklaşık %2.77'lik bir mutlak sapma ile yaklaştığını gösterir. Bu oldukça düşük bir hata oranı olup modelin yüksek doğrulukla çalıştığını ortaya koyar.\n",
    "\n",
    "MAE değeri küçük olduğunda, model tahminleri gerçek değerlere daha yakındır.\n"
   ]
  },
  {
   "cell_type": "code",
   "execution_count": 28,
   "id": "fe875f4a",
   "metadata": {},
   "outputs": [
    {
     "name": "stdout",
     "output_type": "stream",
     "text": [
      "\u001b[1m737/737\u001b[0m \u001b[32m━━━━━━━━━━━━━━━━━━━━\u001b[0m\u001b[37m\u001b[0m \u001b[1m4s\u001b[0m 5ms/step\n"
     ]
    },
    {
     "data": {
      "image/png": "[encoded data removed]",
      "text/plain": [
       "<Figure size 640x480 with 1 Axes>"
      ]
     },
     "metadata": {},
     "output_type": "display_data"
    }
   ],
   "source": [
    "# Tahmin grafiği\n",
    "y_pred = lstm_model.predict(X_test)\n",
    "plt.plot(y_test[:200], label='Gerçek SOC')\n",
    "plt.plot(y_pred[:200], label='Tahmin SOC')\n",
    "plt.legend()\n",
    "plt.title(\"SOC LSTM Tahmini\")\n",
    "plt.grid(True)\n",
    "plt.show()"
   ]
  },
  {
   "cell_type": "code",
   "execution_count": 29,
   "id": "b71cbbec",
   "metadata": {},
   "outputs": [
    {
     "name": "stderr",
     "output_type": "stream",
     "text": [
      "WARNING:absl:You are saving your model as an HDF5 file via `model.save()` or `keras.saving.save_model(model)`. This file format is considered legacy. We recommend using instead the native Keras format, e.g. `model.save('my_model.keras')` or `keras.saving.save_model(model, 'my_model.keras')`. \n"
     ]
    },
    {
     "name": "stdout",
     "output_type": "stream",
     "text": [
      "📁 SOC modeli kaydedildi: models/soc_model.h5\n"
     ]
    }
   ],
   "source": [
    "# Kaydet\n",
    "lstm_model.save(\"models/soc_model.h5\")\n",
    "print(\"📁 SOC modeli kaydedildi: models/soc_model.h5\")"
   ]
  }
 ],
 "metadata": {
  "kernelspec": {
   "display_name": "Python 3",
   "language": "python",
   "name": "python3"
  },
  "language_info": {
   "codemirror_mode": {
    "name": "ipython",
    "version": 3
   },
   "file_extension": ".py",
   "mimetype": "text/x-python",
   "name": "python",
   "nbconvert_exporter": "python",
   "pygments_lexer": "ipython3",
   "version": "3.10.4"
  }
 },
 "nbformat": 4,
 "nbformat_minor": 5
}
